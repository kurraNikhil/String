{
 "cells": [
  {
   "cell_type": "code",
   "execution_count": 1,
   "metadata": {},
   "outputs": [
    {
     "name": "stdout",
     "output_type": "stream",
     "text": [
      "HelloWorld\n"
     ]
    }
   ],
   "source": [
    "str1 = \"Hello\"\n",
    "str2 = \"World\"\n",
    "\n",
    "print(str1 + str2)\n"
   ]
  },
  {
   "cell_type": "code",
   "execution_count": 2,
   "metadata": {},
   "outputs": [
    {
     "name": "stdout",
     "output_type": "stream",
     "text": [
      "is \n"
     ]
    }
   ],
   "source": [
    "str = \"This is a string.\"\n",
    "\n",
    "substring = str[2:5]\n",
    "\n",
    "print(substring)\n"
   ]
  },
  {
   "cell_type": "code",
   "execution_count": 3,
   "metadata": {},
   "outputs": [
    {
     "name": "stdout",
     "output_type": "stream",
     "text": [
      "Thwas was a string.\n"
     ]
    }
   ],
   "source": [
    "str = \"This is a string.\"\n",
    "\n",
    "new_str = str.replace(\"is\", \"was\")\n",
    "\n",
    "print(new_str)\n"
   ]
  },
  {
   "cell_type": "code",
   "execution_count": 4,
   "metadata": {},
   "outputs": [
    {
     "name": "stdout",
     "output_type": "stream",
     "text": [
      "2\n"
     ]
    }
   ],
   "source": [
    "str = \"This is a string.\"\n",
    "\n",
    "sub_str = \"is\"\n",
    "\n",
    "index = str.find(sub_str)\n",
    "\n",
    "print(index)\n"
   ]
  },
  {
   "cell_type": "code",
   "execution_count": 5,
   "metadata": {},
   "outputs": [
    {
     "name": "stdout",
     "output_type": "stream",
     "text": [
      "4\n"
     ]
    }
   ],
   "source": [
    "str = \"This is a string. This is another string.\"\n",
    "\n",
    "sub_str = \"is\"\n",
    "\n",
    "count = str.count(sub_str)\n",
    "\n",
    "print(count)\n"
   ]
  },
  {
   "cell_type": "code",
   "execution_count": 6,
   "metadata": {},
   "outputs": [
    {
     "name": "stdout",
     "output_type": "stream",
     "text": [
      "THIS IS A STRING.\n"
     ]
    }
   ],
   "source": [
    "str = \"This is a string.\"\n",
    "\n",
    "upper_str = str.upper()\n",
    "\n",
    "print(upper_str)\n"
   ]
  },
  {
   "cell_type": "code",
   "execution_count": 7,
   "metadata": {},
   "outputs": [
    {
     "name": "stdout",
     "output_type": "stream",
     "text": [
      "this is a string.\n"
     ]
    }
   ],
   "source": [
    "str = \"This is a string.\"\n",
    "\n",
    "lower_str = str.lower()\n",
    "\n",
    "print(lower_str)\n"
   ]
  },
  {
   "cell_type": "code",
   "execution_count": 8,
   "metadata": {},
   "outputs": [
    {
     "name": "stdout",
     "output_type": "stream",
     "text": [
      "The string does not end with 'string'\n"
     ]
    }
   ],
   "source": [
    "str = \"This is a string.\"\n",
    "\n",
    "sub_str = \"string\"\n",
    "\n",
    "if str.endswith(sub_str):\n",
    "  print(\"The string ends with 'string'\")\n",
    "else:\n",
    "  print(\"The string does not end with 'string'\")\n"
   ]
  },
  {
   "cell_type": "code",
   "execution_count": 9,
   "metadata": {},
   "outputs": [
    {
     "name": "stdout",
     "output_type": "stream",
     "text": [
      "My name is Bard and I am 3 years old.\n"
     ]
    }
   ],
   "source": [
    "name = \"Bard\"\n",
    "age = 3\n",
    "\n",
    "formatted_str = \"My name is {} and I am {} years old.\".format(name, age)\n",
    "\n",
    "print(formatted_str)\n"
   ]
  }
 ],
 "metadata": {
  "kernelspec": {
   "display_name": "Python 3",
   "language": "python",
   "name": "python3"
  },
  "language_info": {
   "codemirror_mode": {
    "name": "ipython",
    "version": 3
   },
   "file_extension": ".py",
   "mimetype": "text/x-python",
   "name": "python",
   "nbconvert_exporter": "python",
   "pygments_lexer": "ipython3",
   "version": "3.11.4"
  },
  "orig_nbformat": 4
 },
 "nbformat": 4,
 "nbformat_minor": 2
}
